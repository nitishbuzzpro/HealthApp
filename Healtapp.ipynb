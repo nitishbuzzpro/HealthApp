{
 "cells": [
  {
   "cell_type": "markdown",
   "id": "1d51eb9d-a4c3-4ad1-9a63-24c23332ba06",
   "metadata": {},
   "source": [
    "Name : Nitish Adhikari\n",
    "\n",
    "Contact : +91 9650740295 (nitishbuzzpro@gmail.com)\n",
    "\n",
    "Linkedin : https://www.linkedin.com/in/nitish-adhikari-6b2350248 \n",
    "\n",
    "Github : https://github.com/nitishbuzzpro"
   ]
  },
  {
   "cell_type": "markdown",
   "id": "63c021a8-e0be-46c4-ac41-6d05d24a3513",
   "metadata": {},
   "source": [
    "# PROJECT : Analyise logs form Healthapp and build the Analytics solution"
   ]
  },
  {
   "cell_type": "code",
   "execution_count": 1,
   "id": "b0fe0aa7-6176-4cc7-ac58-2edd9ffff279",
   "metadata": {},
   "outputs": [],
   "source": [
    "import piplite\n",
    "await piplite.install('numpy')\n",
    "await piplite.install('pandas')\n",
    "await piplite.install('matplotlib')\n",
    "await piplite.install('seaborn')"
   ]
  },
  {
   "cell_type": "code",
   "execution_count": 2,
   "id": "bfc6ccce",
   "metadata": {},
   "outputs": [],
   "source": [
    "#Import Libraries\n",
    "import pandas as pd\n",
    "import matplotlib.pyplot as plt\n",
    "import seaborn as sns\n",
    "from datetime import datetime\n",
    "import warnings\n",
    "warnings.filterwarnings('ignore')"
   ]
  },
  {
   "cell_type": "code",
   "execution_count": 3,
   "id": "1b48310d",
   "metadata": {},
   "outputs": [
    {
     "data": {
      "text/html": [
       "<div>\n",
       "<style scoped>\n",
       "    .dataframe tbody tr th:only-of-type {\n",
       "        vertical-align: middle;\n",
       "    }\n",
       "\n",
       "    .dataframe tbody tr th {\n",
       "        vertical-align: top;\n",
       "    }\n",
       "\n",
       "    .dataframe thead th {\n",
       "        text-align: right;\n",
       "    }\n",
       "</style>\n",
       "<table border=\"1\" class=\"dataframe\">\n",
       "  <thead>\n",
       "    <tr style=\"text-align: right;\">\n",
       "      <th></th>\n",
       "      <th>Time</th>\n",
       "      <th>Component</th>\n",
       "      <th>Pid</th>\n",
       "      <th>Content</th>\n",
       "      <th>EventId</th>\n",
       "      <th>EventTemplate</th>\n",
       "    </tr>\n",
       "    <tr>\n",
       "      <th>LineId</th>\n",
       "      <th></th>\n",
       "      <th></th>\n",
       "      <th></th>\n",
       "      <th></th>\n",
       "      <th></th>\n",
       "      <th></th>\n",
       "    </tr>\n",
       "  </thead>\n",
       "  <tbody>\n",
       "    <tr>\n",
       "      <th>1</th>\n",
       "      <td>20171223-22:15:29:606</td>\n",
       "      <td>Step_LSC</td>\n",
       "      <td>30002312</td>\n",
       "      <td>onStandStepChanged 3579</td>\n",
       "      <td>E42</td>\n",
       "      <td>onStandStepChanged &lt;*&gt;</td>\n",
       "    </tr>\n",
       "    <tr>\n",
       "      <th>2</th>\n",
       "      <td>20171223-22:15:29:615</td>\n",
       "      <td>Step_LSC</td>\n",
       "      <td>30002312</td>\n",
       "      <td>onExtend:1514038530000 14 0 4</td>\n",
       "      <td>E39</td>\n",
       "      <td>onExtend:&lt;*&gt; &lt;*&gt; &lt;*&gt; &lt;*&gt;</td>\n",
       "    </tr>\n",
       "    <tr>\n",
       "      <th>3</th>\n",
       "      <td>20171223-22:15:29:633</td>\n",
       "      <td>Step_StandReportReceiver</td>\n",
       "      <td>30002312</td>\n",
       "      <td>onReceive action: android.intent.action.SCREEN_ON</td>\n",
       "      <td>E41</td>\n",
       "      <td>onReceive action: android.intent.action.SCREEN_ON</td>\n",
       "    </tr>\n",
       "    <tr>\n",
       "      <th>4</th>\n",
       "      <td>20171223-22:15:29:635</td>\n",
       "      <td>Step_LSC</td>\n",
       "      <td>30002312</td>\n",
       "      <td>processHandleBroadcastAction action:android.in...</td>\n",
       "      <td>E43</td>\n",
       "      <td>processHandleBroadcastAction action:android.in...</td>\n",
       "    </tr>\n",
       "    <tr>\n",
       "      <th>5</th>\n",
       "      <td>20171223-22:15:29:635</td>\n",
       "      <td>Step_StandStepCounter</td>\n",
       "      <td>30002312</td>\n",
       "      <td>flush sensor data</td>\n",
       "      <td>E12</td>\n",
       "      <td>flush sensor data</td>\n",
       "    </tr>\n",
       "    <tr>\n",
       "      <th>...</th>\n",
       "      <td>...</td>\n",
       "      <td>...</td>\n",
       "      <td>...</td>\n",
       "      <td>...</td>\n",
       "      <td>...</td>\n",
       "      <td>...</td>\n",
       "    </tr>\n",
       "    <tr>\n",
       "      <th>1996</th>\n",
       "      <td>20171224-0:58:53:985</td>\n",
       "      <td>Step_LSC</td>\n",
       "      <td>30002312</td>\n",
       "      <td>processHandleBroadcastAction action:android.in...</td>\n",
       "      <td>E44</td>\n",
       "      <td>processHandleBroadcastAction action:android.in...</td>\n",
       "    </tr>\n",
       "    <tr>\n",
       "      <th>1997</th>\n",
       "      <td>20171224-0:59:7:581</td>\n",
       "      <td>Step_LSC</td>\n",
       "      <td>30002312</td>\n",
       "      <td>processHandleBroadcastAction action:android.in...</td>\n",
       "      <td>E44</td>\n",
       "      <td>processHandleBroadcastAction action:android.in...</td>\n",
       "    </tr>\n",
       "    <tr>\n",
       "      <th>1998</th>\n",
       "      <td>20171224-1:0:0:794</td>\n",
       "      <td>Step_LSC</td>\n",
       "      <td>30002312</td>\n",
       "      <td>processHandleBroadcastAction action:android.in...</td>\n",
       "      <td>E44</td>\n",
       "      <td>processHandleBroadcastAction action:android.in...</td>\n",
       "    </tr>\n",
       "    <tr>\n",
       "      <th>1999</th>\n",
       "      <td>20171224-1:1:0:935</td>\n",
       "      <td>Step_LSC</td>\n",
       "      <td>30002312</td>\n",
       "      <td>processHandleBroadcastAction action:android.in...</td>\n",
       "      <td>E44</td>\n",
       "      <td>processHandleBroadcastAction action:android.in...</td>\n",
       "    </tr>\n",
       "    <tr>\n",
       "      <th>2000</th>\n",
       "      <td>20171224-1:2:35:789</td>\n",
       "      <td>Step_LSC</td>\n",
       "      <td>30002312</td>\n",
       "      <td>processHandleBroadcastAction action:android.in...</td>\n",
       "      <td>E44</td>\n",
       "      <td>processHandleBroadcastAction action:android.in...</td>\n",
       "    </tr>\n",
       "  </tbody>\n",
       "</table>\n",
       "<p>2000 rows × 6 columns</p>\n",
       "</div>"
      ],
      "text/plain": [
       "                         Time                 Component       Pid  \\\n",
       "LineId                                                              \n",
       "1       20171223-22:15:29:606                  Step_LSC  30002312   \n",
       "2       20171223-22:15:29:615                  Step_LSC  30002312   \n",
       "3       20171223-22:15:29:633  Step_StandReportReceiver  30002312   \n",
       "4       20171223-22:15:29:635                  Step_LSC  30002312   \n",
       "5       20171223-22:15:29:635     Step_StandStepCounter  30002312   \n",
       "...                       ...                       ...       ...   \n",
       "1996     20171224-0:58:53:985                  Step_LSC  30002312   \n",
       "1997      20171224-0:59:7:581                  Step_LSC  30002312   \n",
       "1998       20171224-1:0:0:794                  Step_LSC  30002312   \n",
       "1999       20171224-1:1:0:935                  Step_LSC  30002312   \n",
       "2000      20171224-1:2:35:789                  Step_LSC  30002312   \n",
       "\n",
       "                                                  Content EventId  \\\n",
       "LineId                                                              \n",
       "1                                 onStandStepChanged 3579     E42   \n",
       "2                           onExtend:1514038530000 14 0 4     E39   \n",
       "3       onReceive action: android.intent.action.SCREEN_ON     E41   \n",
       "4       processHandleBroadcastAction action:android.in...     E43   \n",
       "5                                       flush sensor data     E12   \n",
       "...                                                   ...     ...   \n",
       "1996    processHandleBroadcastAction action:android.in...     E44   \n",
       "1997    processHandleBroadcastAction action:android.in...     E44   \n",
       "1998    processHandleBroadcastAction action:android.in...     E44   \n",
       "1999    processHandleBroadcastAction action:android.in...     E44   \n",
       "2000    processHandleBroadcastAction action:android.in...     E44   \n",
       "\n",
       "                                            EventTemplate  \n",
       "LineId                                                     \n",
       "1                                  onStandStepChanged <*>  \n",
       "2                                onExtend:<*> <*> <*> <*>  \n",
       "3       onReceive action: android.intent.action.SCREEN_ON  \n",
       "4       processHandleBroadcastAction action:android.in...  \n",
       "5                                       flush sensor data  \n",
       "...                                                   ...  \n",
       "1996    processHandleBroadcastAction action:android.in...  \n",
       "1997    processHandleBroadcastAction action:android.in...  \n",
       "1998    processHandleBroadcastAction action:android.in...  \n",
       "1999    processHandleBroadcastAction action:android.in...  \n",
       "2000    processHandleBroadcastAction action:android.in...  \n",
       "\n",
       "[2000 rows x 6 columns]"
      ]
     },
     "execution_count": 3,
     "metadata": {},
     "output_type": "execute_result"
    }
   ],
   "source": [
    "#Create dataframe\n",
    "df = pd.read_csv('HealthApp_2k.log_structured.csv')\n",
    "df = df.set_index('LineId') \n",
    "df "
   ]
  },
  {
   "cell_type": "code",
   "execution_count": 4,
   "id": "65133141",
   "metadata": {},
   "outputs": [
    {
     "data": {
      "text/plain": [
       "Time             0\n",
       "Component        0\n",
       "Pid              0\n",
       "Content          0\n",
       "EventId          0\n",
       "EventTemplate    0\n",
       "dtype: int64"
      ]
     },
     "execution_count": 4,
     "metadata": {},
     "output_type": "execute_result"
    }
   ],
   "source": [
    "#Check for Null values\n",
    "df.isnull().sum()"
   ]
  },
  {
   "cell_type": "code",
   "execution_count": 5,
   "id": "f9a6eff1",
   "metadata": {},
   "outputs": [
    {
     "data": {
      "text/plain": [
       "Index(['Time', 'Component', 'Pid', 'Content', 'EventId', 'EventTemplate'], dtype='object')"
      ]
     },
     "execution_count": 5,
     "metadata": {},
     "output_type": "execute_result"
    }
   ],
   "source": [
    "df.columns"
   ]
  },
  {
   "cell_type": "code",
   "execution_count": 6,
   "id": "58cd83e2-247f-4464-acb0-5a79a5837928",
   "metadata": {
    "scrolled": true
   },
   "outputs": [
    {
     "data": {
      "text/html": [
       "<div>\n",
       "<style scoped>\n",
       "    .dataframe tbody tr th:only-of-type {\n",
       "        vertical-align: middle;\n",
       "    }\n",
       "\n",
       "    .dataframe tbody tr th {\n",
       "        vertical-align: top;\n",
       "    }\n",
       "\n",
       "    .dataframe thead th {\n",
       "        text-align: right;\n",
       "    }\n",
       "</style>\n",
       "<table border=\"1\" class=\"dataframe\">\n",
       "  <thead>\n",
       "    <tr style=\"text-align: right;\">\n",
       "      <th></th>\n",
       "      <th>EventId</th>\n",
       "      <th>EventTemplate</th>\n",
       "    </tr>\n",
       "  </thead>\n",
       "  <tbody>\n",
       "    <tr>\n",
       "      <th>0</th>\n",
       "      <td>E1</td>\n",
       "      <td>Alarm uploadStaticsToDB totalSteps=&lt;*&gt;:&lt;*&gt;:&lt;*&gt;...</td>\n",
       "    </tr>\n",
       "    <tr>\n",
       "      <th>1</th>\n",
       "      <td>E2</td>\n",
       "      <td>bulkSaveDetailHiHealthData() size = &lt;*&gt;,totalT...</td>\n",
       "    </tr>\n",
       "    <tr>\n",
       "      <th>2</th>\n",
       "      <td>E3</td>\n",
       "      <td>calculateAltitudeWithCache totalAltitude=&lt;*&gt;</td>\n",
       "    </tr>\n",
       "    <tr>\n",
       "      <th>3</th>\n",
       "      <td>E4</td>\n",
       "      <td>calculateCaloriesWithCache totalCalories=&lt;*&gt;</td>\n",
       "    </tr>\n",
       "    <tr>\n",
       "      <th>4</th>\n",
       "      <td>E5</td>\n",
       "      <td>checkCurrentDay a new day comes , reset basicS...</td>\n",
       "    </tr>\n",
       "    <tr>\n",
       "      <th>...</th>\n",
       "      <td>...</td>\n",
       "      <td>...</td>\n",
       "    </tr>\n",
       "    <tr>\n",
       "      <th>70</th>\n",
       "      <td>E71</td>\n",
       "      <td>tryToReloadTodayBasicSteps&lt;*&gt;|&lt;*&gt;|&lt;*&gt;|&lt;*&gt;</td>\n",
       "    </tr>\n",
       "    <tr>\n",
       "      <th>71</th>\n",
       "      <td>E72</td>\n",
       "      <td>upLoadOneMinuteDataToEngine time=&lt;*&gt;,&lt;*&gt;,&lt;*&gt;,&lt;...</td>\n",
       "    </tr>\n",
       "    <tr>\n",
       "      <th>72</th>\n",
       "      <td>E73</td>\n",
       "      <td>uploadStaticsToDB failed message=true</td>\n",
       "    </tr>\n",
       "    <tr>\n",
       "      <th>73</th>\n",
       "      <td>E74</td>\n",
       "      <td>uploadStaticsToDB() onResult  type = &lt;*&gt; obj=true</td>\n",
       "    </tr>\n",
       "    <tr>\n",
       "      <th>74</th>\n",
       "      <td>E75</td>\n",
       "      <td>writeDataToDB size &lt;*&gt;</td>\n",
       "    </tr>\n",
       "  </tbody>\n",
       "</table>\n",
       "<p>75 rows × 2 columns</p>\n",
       "</div>"
      ],
      "text/plain": [
       "   EventId                                      EventTemplate\n",
       "0       E1  Alarm uploadStaticsToDB totalSteps=<*>:<*>:<*>...\n",
       "1       E2  bulkSaveDetailHiHealthData() size = <*>,totalT...\n",
       "2       E3       calculateAltitudeWithCache totalAltitude=<*>\n",
       "3       E4       calculateCaloriesWithCache totalCalories=<*>\n",
       "4       E5  checkCurrentDay a new day comes , reset basicS...\n",
       "..     ...                                                ...\n",
       "70     E71          tryToReloadTodayBasicSteps<*>|<*>|<*>|<*>\n",
       "71     E72  upLoadOneMinuteDataToEngine time=<*>,<*>,<*>,<...\n",
       "72     E73              uploadStaticsToDB failed message=true\n",
       "73     E74  uploadStaticsToDB() onResult  type = <*> obj=true\n",
       "74     E75                             writeDataToDB size <*>\n",
       "\n",
       "[75 rows x 2 columns]"
      ]
     },
     "execution_count": 6,
     "metadata": {},
     "output_type": "execute_result"
    }
   ],
   "source": [
    "#template data frame\n",
    "df_template = pd.read_csv('HealthApp_2k.log_templates.csv')\n",
    "df_template"
   ]
  },
  {
   "cell_type": "code",
   "execution_count": 7,
   "id": "480fb1b3",
   "metadata": {},
   "outputs": [
    {
     "data": {
      "text/html": [
       "<div>\n",
       "<style scoped>\n",
       "    .dataframe tbody tr th:only-of-type {\n",
       "        vertical-align: middle;\n",
       "    }\n",
       "\n",
       "    .dataframe tbody tr th {\n",
       "        vertical-align: top;\n",
       "    }\n",
       "\n",
       "    .dataframe thead th {\n",
       "        text-align: right;\n",
       "    }\n",
       "</style>\n",
       "<table border=\"1\" class=\"dataframe\">\n",
       "  <thead>\n",
       "    <tr style=\"text-align: right;\">\n",
       "      <th></th>\n",
       "      <th>Time</th>\n",
       "      <th>Component</th>\n",
       "      <th>Pid</th>\n",
       "      <th>Content</th>\n",
       "      <th>EventId</th>\n",
       "      <th>EventTemplate</th>\n",
       "    </tr>\n",
       "    <tr>\n",
       "      <th>LineId</th>\n",
       "      <th></th>\n",
       "      <th></th>\n",
       "      <th></th>\n",
       "      <th></th>\n",
       "      <th></th>\n",
       "      <th></th>\n",
       "    </tr>\n",
       "  </thead>\n",
       "  <tbody>\n",
       "    <tr>\n",
       "      <th>1</th>\n",
       "      <td>2017-12-23 22:15:29.606</td>\n",
       "      <td>Step_LSC</td>\n",
       "      <td>30002312</td>\n",
       "      <td>onStandStepChanged 3579</td>\n",
       "      <td>E42</td>\n",
       "      <td>onStandStepChanged &lt;*&gt;</td>\n",
       "    </tr>\n",
       "    <tr>\n",
       "      <th>2</th>\n",
       "      <td>2017-12-23 22:15:29.615</td>\n",
       "      <td>Step_LSC</td>\n",
       "      <td>30002312</td>\n",
       "      <td>onExtend:1514038530000 14 0 4</td>\n",
       "      <td>E39</td>\n",
       "      <td>onExtend:&lt;*&gt; &lt;*&gt; &lt;*&gt; &lt;*&gt;</td>\n",
       "    </tr>\n",
       "    <tr>\n",
       "      <th>3</th>\n",
       "      <td>2017-12-23 22:15:29.633</td>\n",
       "      <td>Step_StandReportReceiver</td>\n",
       "      <td>30002312</td>\n",
       "      <td>onReceive action: android.intent.action.SCREEN_ON</td>\n",
       "      <td>E41</td>\n",
       "      <td>onReceive action: android.intent.action.SCREEN_ON</td>\n",
       "    </tr>\n",
       "    <tr>\n",
       "      <th>4</th>\n",
       "      <td>2017-12-23 22:15:29.635</td>\n",
       "      <td>Step_LSC</td>\n",
       "      <td>30002312</td>\n",
       "      <td>processHandleBroadcastAction action:android.in...</td>\n",
       "      <td>E43</td>\n",
       "      <td>processHandleBroadcastAction action:android.in...</td>\n",
       "    </tr>\n",
       "    <tr>\n",
       "      <th>5</th>\n",
       "      <td>2017-12-23 22:15:29.635</td>\n",
       "      <td>Step_StandStepCounter</td>\n",
       "      <td>30002312</td>\n",
       "      <td>flush sensor data</td>\n",
       "      <td>E12</td>\n",
       "      <td>flush sensor data</td>\n",
       "    </tr>\n",
       "    <tr>\n",
       "      <th>...</th>\n",
       "      <td>...</td>\n",
       "      <td>...</td>\n",
       "      <td>...</td>\n",
       "      <td>...</td>\n",
       "      <td>...</td>\n",
       "      <td>...</td>\n",
       "    </tr>\n",
       "    <tr>\n",
       "      <th>1996</th>\n",
       "      <td>2017-12-24 00:58:53.985</td>\n",
       "      <td>Step_LSC</td>\n",
       "      <td>30002312</td>\n",
       "      <td>processHandleBroadcastAction action:android.in...</td>\n",
       "      <td>E44</td>\n",
       "      <td>processHandleBroadcastAction action:android.in...</td>\n",
       "    </tr>\n",
       "    <tr>\n",
       "      <th>1997</th>\n",
       "      <td>2017-12-24 00:59:07.581</td>\n",
       "      <td>Step_LSC</td>\n",
       "      <td>30002312</td>\n",
       "      <td>processHandleBroadcastAction action:android.in...</td>\n",
       "      <td>E44</td>\n",
       "      <td>processHandleBroadcastAction action:android.in...</td>\n",
       "    </tr>\n",
       "    <tr>\n",
       "      <th>1998</th>\n",
       "      <td>2017-12-24 01:00:00.794</td>\n",
       "      <td>Step_LSC</td>\n",
       "      <td>30002312</td>\n",
       "      <td>processHandleBroadcastAction action:android.in...</td>\n",
       "      <td>E44</td>\n",
       "      <td>processHandleBroadcastAction action:android.in...</td>\n",
       "    </tr>\n",
       "    <tr>\n",
       "      <th>1999</th>\n",
       "      <td>2017-12-24 01:01:00.935</td>\n",
       "      <td>Step_LSC</td>\n",
       "      <td>30002312</td>\n",
       "      <td>processHandleBroadcastAction action:android.in...</td>\n",
       "      <td>E44</td>\n",
       "      <td>processHandleBroadcastAction action:android.in...</td>\n",
       "    </tr>\n",
       "    <tr>\n",
       "      <th>2000</th>\n",
       "      <td>2017-12-24 01:02:35.789</td>\n",
       "      <td>Step_LSC</td>\n",
       "      <td>30002312</td>\n",
       "      <td>processHandleBroadcastAction action:android.in...</td>\n",
       "      <td>E44</td>\n",
       "      <td>processHandleBroadcastAction action:android.in...</td>\n",
       "    </tr>\n",
       "  </tbody>\n",
       "</table>\n",
       "<p>2000 rows × 6 columns</p>\n",
       "</div>"
      ],
      "text/plain": [
       "                          Time                 Component       Pid  \\\n",
       "LineId                                                               \n",
       "1      2017-12-23 22:15:29.606                  Step_LSC  30002312   \n",
       "2      2017-12-23 22:15:29.615                  Step_LSC  30002312   \n",
       "3      2017-12-23 22:15:29.633  Step_StandReportReceiver  30002312   \n",
       "4      2017-12-23 22:15:29.635                  Step_LSC  30002312   \n",
       "5      2017-12-23 22:15:29.635     Step_StandStepCounter  30002312   \n",
       "...                        ...                       ...       ...   \n",
       "1996   2017-12-24 00:58:53.985                  Step_LSC  30002312   \n",
       "1997   2017-12-24 00:59:07.581                  Step_LSC  30002312   \n",
       "1998   2017-12-24 01:00:00.794                  Step_LSC  30002312   \n",
       "1999   2017-12-24 01:01:00.935                  Step_LSC  30002312   \n",
       "2000   2017-12-24 01:02:35.789                  Step_LSC  30002312   \n",
       "\n",
       "                                                  Content EventId  \\\n",
       "LineId                                                              \n",
       "1                                 onStandStepChanged 3579     E42   \n",
       "2                           onExtend:1514038530000 14 0 4     E39   \n",
       "3       onReceive action: android.intent.action.SCREEN_ON     E41   \n",
       "4       processHandleBroadcastAction action:android.in...     E43   \n",
       "5                                       flush sensor data     E12   \n",
       "...                                                   ...     ...   \n",
       "1996    processHandleBroadcastAction action:android.in...     E44   \n",
       "1997    processHandleBroadcastAction action:android.in...     E44   \n",
       "1998    processHandleBroadcastAction action:android.in...     E44   \n",
       "1999    processHandleBroadcastAction action:android.in...     E44   \n",
       "2000    processHandleBroadcastAction action:android.in...     E44   \n",
       "\n",
       "                                            EventTemplate  \n",
       "LineId                                                     \n",
       "1                                  onStandStepChanged <*>  \n",
       "2                                onExtend:<*> <*> <*> <*>  \n",
       "3       onReceive action: android.intent.action.SCREEN_ON  \n",
       "4       processHandleBroadcastAction action:android.in...  \n",
       "5                                       flush sensor data  \n",
       "...                                                   ...  \n",
       "1996    processHandleBroadcastAction action:android.in...  \n",
       "1997    processHandleBroadcastAction action:android.in...  \n",
       "1998    processHandleBroadcastAction action:android.in...  \n",
       "1999    processHandleBroadcastAction action:android.in...  \n",
       "2000    processHandleBroadcastAction action:android.in...  \n",
       "\n",
       "[2000 rows x 6 columns]"
      ]
     },
     "execution_count": 7,
     "metadata": {},
     "output_type": "execute_result"
    }
   ],
   "source": [
    "df['Time'] =  pd.to_datetime(df['Time'], format='%Y%m%d-%H:%M:%S:%f')\n",
    "df"
   ]
  },
  {
   "cell_type": "code",
   "execution_count": 8,
   "id": "afe00673-895e-4788-bb9e-cd3ced0fd4e1",
   "metadata": {},
   "outputs": [
    {
     "data": {
      "text/plain": [
       "Timedelta('0 days 02:47:06.183000')"
      ]
     },
     "execution_count": 8,
     "metadata": {},
     "output_type": "execute_result"
    }
   ],
   "source": [
    "#Total Log time\n",
    "total_log_time = df['Time'].iloc[-1] - df['Time'].iloc[0]\n",
    "total_log_time"
   ]
  },
  {
   "cell_type": "code",
   "execution_count": null,
   "id": "059f885a-a09f-4979-9c2d-b4497fe35240",
   "metadata": {},
   "outputs": [],
   "source": []
  },
  {
   "cell_type": "markdown",
   "id": "b0604a36-01f5-4f65-abf4-9d513b53260d",
   "metadata": {},
   "source": [
    "# STEPS ANLYSIS"
   ]
  },
  {
   "cell_type": "code",
   "execution_count": 9,
   "id": "c097f651-d29b-4678-bf59-d1b9d3af892f",
   "metadata": {},
   "outputs": [],
   "source": [
    "def data_extracter(content):\n",
    "    global max_count\n",
    "    if content.split(' ')[0] ==  'onStandStepChanged':\n",
    "        max_count = int(content.split(' ')[1])\n",
    "        return max_count\n",
    "    else:\n",
    "        return None "
   ]
  },
  {
   "cell_type": "code",
   "execution_count": 10,
   "id": "b41ea9ef-de63-4e4d-9118-79933560c995",
   "metadata": {},
   "outputs": [
    {
     "data": {
      "text/html": [
       "<div>\n",
       "<style scoped>\n",
       "    .dataframe tbody tr th:only-of-type {\n",
       "        vertical-align: middle;\n",
       "    }\n",
       "\n",
       "    .dataframe tbody tr th {\n",
       "        vertical-align: top;\n",
       "    }\n",
       "\n",
       "    .dataframe thead th {\n",
       "        text-align: right;\n",
       "    }\n",
       "</style>\n",
       "<table border=\"1\" class=\"dataframe\">\n",
       "  <thead>\n",
       "    <tr style=\"text-align: right;\">\n",
       "      <th></th>\n",
       "      <th>Time</th>\n",
       "      <th>Component</th>\n",
       "      <th>Pid</th>\n",
       "      <th>Content</th>\n",
       "      <th>EventId</th>\n",
       "      <th>EventTemplate</th>\n",
       "      <th>Step_change_Count</th>\n",
       "    </tr>\n",
       "    <tr>\n",
       "      <th>LineId</th>\n",
       "      <th></th>\n",
       "      <th></th>\n",
       "      <th></th>\n",
       "      <th></th>\n",
       "      <th></th>\n",
       "      <th></th>\n",
       "      <th></th>\n",
       "    </tr>\n",
       "  </thead>\n",
       "  <tbody>\n",
       "    <tr>\n",
       "      <th>1</th>\n",
       "      <td>2017-12-23 22:15:29.606</td>\n",
       "      <td>Step_LSC</td>\n",
       "      <td>30002312</td>\n",
       "      <td>onStandStepChanged 3579</td>\n",
       "      <td>E42</td>\n",
       "      <td>onStandStepChanged &lt;*&gt;</td>\n",
       "      <td>3579.0</td>\n",
       "    </tr>\n",
       "    <tr>\n",
       "      <th>2</th>\n",
       "      <td>2017-12-23 22:15:29.615</td>\n",
       "      <td>Step_LSC</td>\n",
       "      <td>30002312</td>\n",
       "      <td>onExtend:1514038530000 14 0 4</td>\n",
       "      <td>E39</td>\n",
       "      <td>onExtend:&lt;*&gt; &lt;*&gt; &lt;*&gt; &lt;*&gt;</td>\n",
       "      <td>NaN</td>\n",
       "    </tr>\n",
       "    <tr>\n",
       "      <th>3</th>\n",
       "      <td>2017-12-23 22:15:29.633</td>\n",
       "      <td>Step_StandReportReceiver</td>\n",
       "      <td>30002312</td>\n",
       "      <td>onReceive action: android.intent.action.SCREEN_ON</td>\n",
       "      <td>E41</td>\n",
       "      <td>onReceive action: android.intent.action.SCREEN_ON</td>\n",
       "      <td>NaN</td>\n",
       "    </tr>\n",
       "    <tr>\n",
       "      <th>4</th>\n",
       "      <td>2017-12-23 22:15:29.635</td>\n",
       "      <td>Step_LSC</td>\n",
       "      <td>30002312</td>\n",
       "      <td>processHandleBroadcastAction action:android.in...</td>\n",
       "      <td>E43</td>\n",
       "      <td>processHandleBroadcastAction action:android.in...</td>\n",
       "      <td>NaN</td>\n",
       "    </tr>\n",
       "    <tr>\n",
       "      <th>5</th>\n",
       "      <td>2017-12-23 22:15:29.635</td>\n",
       "      <td>Step_StandStepCounter</td>\n",
       "      <td>30002312</td>\n",
       "      <td>flush sensor data</td>\n",
       "      <td>E12</td>\n",
       "      <td>flush sensor data</td>\n",
       "      <td>NaN</td>\n",
       "    </tr>\n",
       "    <tr>\n",
       "      <th>...</th>\n",
       "      <td>...</td>\n",
       "      <td>...</td>\n",
       "      <td>...</td>\n",
       "      <td>...</td>\n",
       "      <td>...</td>\n",
       "      <td>...</td>\n",
       "      <td>...</td>\n",
       "    </tr>\n",
       "    <tr>\n",
       "      <th>1996</th>\n",
       "      <td>2017-12-24 00:58:53.985</td>\n",
       "      <td>Step_LSC</td>\n",
       "      <td>30002312</td>\n",
       "      <td>processHandleBroadcastAction action:android.in...</td>\n",
       "      <td>E44</td>\n",
       "      <td>processHandleBroadcastAction action:android.in...</td>\n",
       "      <td>NaN</td>\n",
       "    </tr>\n",
       "    <tr>\n",
       "      <th>1997</th>\n",
       "      <td>2017-12-24 00:59:07.581</td>\n",
       "      <td>Step_LSC</td>\n",
       "      <td>30002312</td>\n",
       "      <td>processHandleBroadcastAction action:android.in...</td>\n",
       "      <td>E44</td>\n",
       "      <td>processHandleBroadcastAction action:android.in...</td>\n",
       "      <td>NaN</td>\n",
       "    </tr>\n",
       "    <tr>\n",
       "      <th>1998</th>\n",
       "      <td>2017-12-24 01:00:00.794</td>\n",
       "      <td>Step_LSC</td>\n",
       "      <td>30002312</td>\n",
       "      <td>processHandleBroadcastAction action:android.in...</td>\n",
       "      <td>E44</td>\n",
       "      <td>processHandleBroadcastAction action:android.in...</td>\n",
       "      <td>NaN</td>\n",
       "    </tr>\n",
       "    <tr>\n",
       "      <th>1999</th>\n",
       "      <td>2017-12-24 01:01:00.935</td>\n",
       "      <td>Step_LSC</td>\n",
       "      <td>30002312</td>\n",
       "      <td>processHandleBroadcastAction action:android.in...</td>\n",
       "      <td>E44</td>\n",
       "      <td>processHandleBroadcastAction action:android.in...</td>\n",
       "      <td>NaN</td>\n",
       "    </tr>\n",
       "    <tr>\n",
       "      <th>2000</th>\n",
       "      <td>2017-12-24 01:02:35.789</td>\n",
       "      <td>Step_LSC</td>\n",
       "      <td>30002312</td>\n",
       "      <td>processHandleBroadcastAction action:android.in...</td>\n",
       "      <td>E44</td>\n",
       "      <td>processHandleBroadcastAction action:android.in...</td>\n",
       "      <td>NaN</td>\n",
       "    </tr>\n",
       "  </tbody>\n",
       "</table>\n",
       "<p>2000 rows × 7 columns</p>\n",
       "</div>"
      ],
      "text/plain": [
       "                          Time                 Component       Pid  \\\n",
       "LineId                                                               \n",
       "1      2017-12-23 22:15:29.606                  Step_LSC  30002312   \n",
       "2      2017-12-23 22:15:29.615                  Step_LSC  30002312   \n",
       "3      2017-12-23 22:15:29.633  Step_StandReportReceiver  30002312   \n",
       "4      2017-12-23 22:15:29.635                  Step_LSC  30002312   \n",
       "5      2017-12-23 22:15:29.635     Step_StandStepCounter  30002312   \n",
       "...                        ...                       ...       ...   \n",
       "1996   2017-12-24 00:58:53.985                  Step_LSC  30002312   \n",
       "1997   2017-12-24 00:59:07.581                  Step_LSC  30002312   \n",
       "1998   2017-12-24 01:00:00.794                  Step_LSC  30002312   \n",
       "1999   2017-12-24 01:01:00.935                  Step_LSC  30002312   \n",
       "2000   2017-12-24 01:02:35.789                  Step_LSC  30002312   \n",
       "\n",
       "                                                  Content EventId  \\\n",
       "LineId                                                              \n",
       "1                                 onStandStepChanged 3579     E42   \n",
       "2                           onExtend:1514038530000 14 0 4     E39   \n",
       "3       onReceive action: android.intent.action.SCREEN_ON     E41   \n",
       "4       processHandleBroadcastAction action:android.in...     E43   \n",
       "5                                       flush sensor data     E12   \n",
       "...                                                   ...     ...   \n",
       "1996    processHandleBroadcastAction action:android.in...     E44   \n",
       "1997    processHandleBroadcastAction action:android.in...     E44   \n",
       "1998    processHandleBroadcastAction action:android.in...     E44   \n",
       "1999    processHandleBroadcastAction action:android.in...     E44   \n",
       "2000    processHandleBroadcastAction action:android.in...     E44   \n",
       "\n",
       "                                            EventTemplate  Step_change_Count  \n",
       "LineId                                                                        \n",
       "1                                  onStandStepChanged <*>             3579.0  \n",
       "2                                onExtend:<*> <*> <*> <*>                NaN  \n",
       "3       onReceive action: android.intent.action.SCREEN_ON                NaN  \n",
       "4       processHandleBroadcastAction action:android.in...                NaN  \n",
       "5                                       flush sensor data                NaN  \n",
       "...                                                   ...                ...  \n",
       "1996    processHandleBroadcastAction action:android.in...                NaN  \n",
       "1997    processHandleBroadcastAction action:android.in...                NaN  \n",
       "1998    processHandleBroadcastAction action:android.in...                NaN  \n",
       "1999    processHandleBroadcastAction action:android.in...                NaN  \n",
       "2000    processHandleBroadcastAction action:android.in...                NaN  \n",
       "\n",
       "[2000 rows x 7 columns]"
      ]
     },
     "execution_count": 10,
     "metadata": {},
     "output_type": "execute_result"
    }
   ],
   "source": [
    "df['Step_change_Count'] = df['Content'].apply(data_extracter)\n",
    "df"
   ]
  },
  {
   "cell_type": "code",
   "execution_count": 35,
   "id": "cf57eae0-1cdc-4f2f-9461-3fdf050300e5",
   "metadata": {
    "scrolled": true
   },
   "outputs": [
    {
     "data": {
      "text/plain": [
       "Text(0.5, 1.0, 'Histogram of Active Time')"
      ]
     },
     "execution_count": 35,
     "metadata": {},
     "output_type": "execute_result"
    },
    {
     "data": {
      "image/png": "[encoded data removed]",
      "text/plain": [
       "<Figure size 1500x250 with 1 Axes>"
      ]
     },
     "metadata": {},
     "output_type": "display_data"
    }
   ],
   "source": [
    "#Histogram of Time when the person is most active\n",
    "plt.figure(figsize=(15,2.5))\n",
    "histogram = sns.histplot(df[(df['Step_change_Count']!=None)]['Time'], bins=25)\n",
    "plt.xlabel('Date & Time')\n",
    "plt.ylabel('Frequency')\n",
    "plt.title('Histogram of Active Time')"
   ]
  },
  {
   "cell_type": "code",
   "execution_count": 12,
   "id": "ce2764a2-29db-4a26-ba5e-4a4505253b81",
   "metadata": {},
   "outputs": [],
   "source": [
    "def timestamp_to_datetime(timestamp):\n",
    "    from datetime import datetime, timedelta\n",
    "    epoch = datetime(1970, 1, 1)\n",
    "    datetime = epoch + timedelta(days=timestamp)\n",
    "    \n",
    "    return datetime.strftime(\"%Y-%m-%d %H:%M:%S\")"
   ]
  },
  {
   "cell_type": "code",
   "execution_count": 13,
   "id": "36aa155c-e556-4257-a25b-44429db2983e",
   "metadata": {},
   "outputs": [
    {
     "data": {
      "text/plain": [
       "['2017-12-23 22:15:29', '2017-12-23 22:22:10']"
      ]
     },
     "execution_count": 13,
     "metadata": {},
     "output_type": "execute_result"
    }
   ],
   "source": [
    "#Determine the time range when person is most active\n",
    "\n",
    "bars = [rect.get_height() for rect in histogram.patches]\n",
    "bins = [rect.get_x() for rect in histogram.patches]\n",
    "\n",
    "index_max_height = bars.index(max(bars))\n",
    "\n",
    "range_of_bar = (bins[index_max_height],bins[index_max_height+1])\n",
    "\n",
    "date_time_range = []\n",
    "\n",
    "for i in range_of_bar:\n",
    "    date_time_range.append(timestamp_to_datetime(i))\n",
    "\n",
    "date_time_range"
   ]
  },
  {
   "cell_type": "code",
   "execution_count": 14,
   "id": "4dd40c96-3544-4c85-a618-ea55780108bc",
   "metadata": {},
   "outputs": [
    {
     "data": {
      "text/plain": [
       "207.0"
      ]
     },
     "execution_count": 14,
     "metadata": {},
     "output_type": "execute_result"
    }
   ],
   "source": [
    "#Total number of steps taken\n",
    "total_Steps_taken = df['Step_change_Count'].max() - df['Step_change_Count'].min()\n",
    "total_Steps_taken"
   ]
  },
  {
   "cell_type": "code",
   "execution_count": 15,
   "id": "d6d52888-5d09-41f6-b0ac-9348eec72e95",
   "metadata": {},
   "outputs": [
    {
     "data": {
      "text/plain": [
       "Text(0, 0.5, 'Steps_Count')"
      ]
     },
     "execution_count": 15,
     "metadata": {},
     "output_type": "execute_result"
    },
    {
     "data": {
      "image/png": "[encoded data removed]",
      "text/plain": [
       "<Figure size 1500x500 with 1 Axes>"
      ]
     },
     "metadata": {},
     "output_type": "display_data"
    }
   ],
   "source": [
    "plt.figure(figsize=(15,5))\n",
    "sns.lineplot(x=df['Time'] , y = df[df['Step_change_Count']!=None]['Step_change_Count'])\n",
    "plt.xlabel('Time')\n",
    "plt.ylabel('Steps_Count')"
   ]
  },
  {
   "cell_type": "code",
   "execution_count": 16,
   "id": "b352c064-9be8-4439-87e0-b3980bb81fab",
   "metadata": {},
   "outputs": [
    {
     "data": {
      "text/plain": [
       "Time   2017-12-23 23:14:48.606\n",
       "Name: 1425, dtype: datetime64[ns]"
      ]
     },
     "execution_count": 16,
     "metadata": {},
     "output_type": "execute_result"
    }
   ],
   "source": [
    "#Time after When a person is idle(not moving)\n",
    "time_idle = df[['Time']][df['Step_change_Count']==df['Step_change_Count'].max()].iloc[0]\n",
    "time_idle "
   ]
  },
  {
   "cell_type": "markdown",
   "id": "fee1b774-5d0c-416c-a281-42f3101f108f",
   "metadata": {},
   "source": [
    "# CALORIES ANALYSIS"
   ]
  },
  {
   "cell_type": "code",
   "execution_count": 17,
   "id": "2d4a16ea-a37f-4b8c-aa4a-8e8ce30dff5a",
   "metadata": {},
   "outputs": [],
   "source": [
    "def calorie_data_extracter(content):\n",
    "    if content.split('=')[0] ==  'calculateCaloriesWithCache totalCalories':\n",
    "        max_calorie_count = int(content.split('=')[1])\n",
    "        return max_calorie_count\n",
    "    else:\n",
    "        return None"
   ]
  },
  {
   "cell_type": "code",
   "execution_count": 18,
   "id": "745bea66-878f-4e67-9c55-347310586650",
   "metadata": {},
   "outputs": [
    {
     "data": {
      "text/html": [
       "<div>\n",
       "<style scoped>\n",
       "    .dataframe tbody tr th:only-of-type {\n",
       "        vertical-align: middle;\n",
       "    }\n",
       "\n",
       "    .dataframe tbody tr th {\n",
       "        vertical-align: top;\n",
       "    }\n",
       "\n",
       "    .dataframe thead th {\n",
       "        text-align: right;\n",
       "    }\n",
       "</style>\n",
       "<table border=\"1\" class=\"dataframe\">\n",
       "  <thead>\n",
       "    <tr style=\"text-align: right;\">\n",
       "      <th></th>\n",
       "      <th>Time</th>\n",
       "      <th>Component</th>\n",
       "      <th>Pid</th>\n",
       "      <th>Content</th>\n",
       "      <th>EventId</th>\n",
       "      <th>EventTemplate</th>\n",
       "      <th>Step_change_Count</th>\n",
       "      <th>Calorie_change_count</th>\n",
       "    </tr>\n",
       "    <tr>\n",
       "      <th>LineId</th>\n",
       "      <th></th>\n",
       "      <th></th>\n",
       "      <th></th>\n",
       "      <th></th>\n",
       "      <th></th>\n",
       "      <th></th>\n",
       "      <th></th>\n",
       "      <th></th>\n",
       "    </tr>\n",
       "  </thead>\n",
       "  <tbody>\n",
       "    <tr>\n",
       "      <th>1</th>\n",
       "      <td>2017-12-23 22:15:29.606</td>\n",
       "      <td>Step_LSC</td>\n",
       "      <td>30002312</td>\n",
       "      <td>onStandStepChanged 3579</td>\n",
       "      <td>E42</td>\n",
       "      <td>onStandStepChanged &lt;*&gt;</td>\n",
       "      <td>3579.0</td>\n",
       "      <td>NaN</td>\n",
       "    </tr>\n",
       "    <tr>\n",
       "      <th>2</th>\n",
       "      <td>2017-12-23 22:15:29.615</td>\n",
       "      <td>Step_LSC</td>\n",
       "      <td>30002312</td>\n",
       "      <td>onExtend:1514038530000 14 0 4</td>\n",
       "      <td>E39</td>\n",
       "      <td>onExtend:&lt;*&gt; &lt;*&gt; &lt;*&gt; &lt;*&gt;</td>\n",
       "      <td>NaN</td>\n",
       "      <td>NaN</td>\n",
       "    </tr>\n",
       "    <tr>\n",
       "      <th>3</th>\n",
       "      <td>2017-12-23 22:15:29.633</td>\n",
       "      <td>Step_StandReportReceiver</td>\n",
       "      <td>30002312</td>\n",
       "      <td>onReceive action: android.intent.action.SCREEN_ON</td>\n",
       "      <td>E41</td>\n",
       "      <td>onReceive action: android.intent.action.SCREEN_ON</td>\n",
       "      <td>NaN</td>\n",
       "      <td>NaN</td>\n",
       "    </tr>\n",
       "    <tr>\n",
       "      <th>4</th>\n",
       "      <td>2017-12-23 22:15:29.635</td>\n",
       "      <td>Step_LSC</td>\n",
       "      <td>30002312</td>\n",
       "      <td>processHandleBroadcastAction action:android.in...</td>\n",
       "      <td>E43</td>\n",
       "      <td>processHandleBroadcastAction action:android.in...</td>\n",
       "      <td>NaN</td>\n",
       "      <td>NaN</td>\n",
       "    </tr>\n",
       "    <tr>\n",
       "      <th>5</th>\n",
       "      <td>2017-12-23 22:15:29.635</td>\n",
       "      <td>Step_StandStepCounter</td>\n",
       "      <td>30002312</td>\n",
       "      <td>flush sensor data</td>\n",
       "      <td>E12</td>\n",
       "      <td>flush sensor data</td>\n",
       "      <td>NaN</td>\n",
       "      <td>NaN</td>\n",
       "    </tr>\n",
       "    <tr>\n",
       "      <th>...</th>\n",
       "      <td>...</td>\n",
       "      <td>...</td>\n",
       "      <td>...</td>\n",
       "      <td>...</td>\n",
       "      <td>...</td>\n",
       "      <td>...</td>\n",
       "      <td>...</td>\n",
       "      <td>...</td>\n",
       "    </tr>\n",
       "    <tr>\n",
       "      <th>1996</th>\n",
       "      <td>2017-12-24 00:58:53.985</td>\n",
       "      <td>Step_LSC</td>\n",
       "      <td>30002312</td>\n",
       "      <td>processHandleBroadcastAction action:android.in...</td>\n",
       "      <td>E44</td>\n",
       "      <td>processHandleBroadcastAction action:android.in...</td>\n",
       "      <td>NaN</td>\n",
       "      <td>NaN</td>\n",
       "    </tr>\n",
       "    <tr>\n",
       "      <th>1997</th>\n",
       "      <td>2017-12-24 00:59:07.581</td>\n",
       "      <td>Step_LSC</td>\n",
       "      <td>30002312</td>\n",
       "      <td>processHandleBroadcastAction action:android.in...</td>\n",
       "      <td>E44</td>\n",
       "      <td>processHandleBroadcastAction action:android.in...</td>\n",
       "      <td>NaN</td>\n",
       "      <td>NaN</td>\n",
       "    </tr>\n",
       "    <tr>\n",
       "      <th>1998</th>\n",
       "      <td>2017-12-24 01:00:00.794</td>\n",
       "      <td>Step_LSC</td>\n",
       "      <td>30002312</td>\n",
       "      <td>processHandleBroadcastAction action:android.in...</td>\n",
       "      <td>E44</td>\n",
       "      <td>processHandleBroadcastAction action:android.in...</td>\n",
       "      <td>NaN</td>\n",
       "      <td>NaN</td>\n",
       "    </tr>\n",
       "    <tr>\n",
       "      <th>1999</th>\n",
       "      <td>2017-12-24 01:01:00.935</td>\n",
       "      <td>Step_LSC</td>\n",
       "      <td>30002312</td>\n",
       "      <td>processHandleBroadcastAction action:android.in...</td>\n",
       "      <td>E44</td>\n",
       "      <td>processHandleBroadcastAction action:android.in...</td>\n",
       "      <td>NaN</td>\n",
       "      <td>NaN</td>\n",
       "    </tr>\n",
       "    <tr>\n",
       "      <th>2000</th>\n",
       "      <td>2017-12-24 01:02:35.789</td>\n",
       "      <td>Step_LSC</td>\n",
       "      <td>30002312</td>\n",
       "      <td>processHandleBroadcastAction action:android.in...</td>\n",
       "      <td>E44</td>\n",
       "      <td>processHandleBroadcastAction action:android.in...</td>\n",
       "      <td>NaN</td>\n",
       "      <td>NaN</td>\n",
       "    </tr>\n",
       "  </tbody>\n",
       "</table>\n",
       "<p>2000 rows × 8 columns</p>\n",
       "</div>"
      ],
      "text/plain": [
       "                          Time                 Component       Pid  \\\n",
       "LineId                                                               \n",
       "1      2017-12-23 22:15:29.606                  Step_LSC  30002312   \n",
       "2      2017-12-23 22:15:29.615                  Step_LSC  30002312   \n",
       "3      2017-12-23 22:15:29.633  Step_StandReportReceiver  30002312   \n",
       "4      2017-12-23 22:15:29.635                  Step_LSC  30002312   \n",
       "5      2017-12-23 22:15:29.635     Step_StandStepCounter  30002312   \n",
       "...                        ...                       ...       ...   \n",
       "1996   2017-12-24 00:58:53.985                  Step_LSC  30002312   \n",
       "1997   2017-12-24 00:59:07.581                  Step_LSC  30002312   \n",
       "1998   2017-12-24 01:00:00.794                  Step_LSC  30002312   \n",
       "1999   2017-12-24 01:01:00.935                  Step_LSC  30002312   \n",
       "2000   2017-12-24 01:02:35.789                  Step_LSC  30002312   \n",
       "\n",
       "                                                  Content EventId  \\\n",
       "LineId                                                              \n",
       "1                                 onStandStepChanged 3579     E42   \n",
       "2                           onExtend:1514038530000 14 0 4     E39   \n",
       "3       onReceive action: android.intent.action.SCREEN_ON     E41   \n",
       "4       processHandleBroadcastAction action:android.in...     E43   \n",
       "5                                       flush sensor data     E12   \n",
       "...                                                   ...     ...   \n",
       "1996    processHandleBroadcastAction action:android.in...     E44   \n",
       "1997    processHandleBroadcastAction action:android.in...     E44   \n",
       "1998    processHandleBroadcastAction action:android.in...     E44   \n",
       "1999    processHandleBroadcastAction action:android.in...     E44   \n",
       "2000    processHandleBroadcastAction action:android.in...     E44   \n",
       "\n",
       "                                            EventTemplate  Step_change_Count  \\\n",
       "LineId                                                                         \n",
       "1                                  onStandStepChanged <*>             3579.0   \n",
       "2                                onExtend:<*> <*> <*> <*>                NaN   \n",
       "3       onReceive action: android.intent.action.SCREEN_ON                NaN   \n",
       "4       processHandleBroadcastAction action:android.in...                NaN   \n",
       "5                                       flush sensor data                NaN   \n",
       "...                                                   ...                ...   \n",
       "1996    processHandleBroadcastAction action:android.in...                NaN   \n",
       "1997    processHandleBroadcastAction action:android.in...                NaN   \n",
       "1998    processHandleBroadcastAction action:android.in...                NaN   \n",
       "1999    processHandleBroadcastAction action:android.in...                NaN   \n",
       "2000    processHandleBroadcastAction action:android.in...                NaN   \n",
       "\n",
       "        Calorie_change_count  \n",
       "LineId                        \n",
       "1                        NaN  \n",
       "2                        NaN  \n",
       "3                        NaN  \n",
       "4                        NaN  \n",
       "5                        NaN  \n",
       "...                      ...  \n",
       "1996                     NaN  \n",
       "1997                     NaN  \n",
       "1998                     NaN  \n",
       "1999                     NaN  \n",
       "2000                     NaN  \n",
       "\n",
       "[2000 rows x 8 columns]"
      ]
     },
     "execution_count": 18,
     "metadata": {},
     "output_type": "execute_result"
    }
   ],
   "source": [
    "df['Calorie_change_count'] = df['Content'].apply(calorie_data_extracter)\n",
    "df[df['EventTemplate']== 'calculateCaloriesWithCache totalCalories=<*>']\n",
    "df"
   ]
  },
  {
   "cell_type": "code",
   "execution_count": 19,
   "id": "e2f71c74-7ee9-4111-8e5c-f6468c6ef517",
   "metadata": {},
   "outputs": [
    {
     "data": {
      "text/plain": [
       "Text(0, 0.5, 'Calorie_Count')"
      ]
     },
     "execution_count": 19,
     "metadata": {},
     "output_type": "execute_result"
    },
    {
     "data": {
      "image/png": "[encoded data removed]",
      "text/plain": [
       "<Figure size 1500x500 with 1 Axes>"
      ]
     },
     "metadata": {},
     "output_type": "display_data"
    }
   ],
   "source": [
    "plt.figure(figsize=(15,5))\n",
    "sns.lineplot(x=df['Time'] , y=df[(df['Calorie_change_count']!=0) & (df['Calorie_change_count']!=None)]['Calorie_change_count'])\n",
    "plt.xlabel('Time')\n",
    "plt.ylabel('Calorie_Count')"
   ]
  },
  {
   "cell_type": "code",
   "execution_count": 20,
   "id": "1bdb744d-2719-4b51-b003-bba0103fd377",
   "metadata": {},
   "outputs": [
    {
     "data": {
      "text/plain": [
       "4433.0"
      ]
     },
     "execution_count": 20,
     "metadata": {},
     "output_type": "execute_result"
    }
   ],
   "source": [
    "#Total calories burnt \n",
    "max_calorie_count = df[(df['EventTemplate']== 'calculateCaloriesWithCache totalCalories=<*>') & (df['Calorie_change_count'] != 0)]['Calorie_change_count'].max()\n",
    "min_calorie_count = df[(df['EventTemplate']== 'calculateCaloriesWithCache totalCalories=<*>') & (df['Calorie_change_count'] != 0)]['Calorie_change_count'].min()\n",
    "Total_calories_burnt = max_calorie_count - min_calorie_count\n",
    "Total_calories_burnt"
   ]
  },
  {
   "cell_type": "code",
   "execution_count": 21,
   "id": "b84e573b-3178-492c-b49a-9ef74a2df6d9",
   "metadata": {},
   "outputs": [
    {
     "data": {
      "text/plain": [
       "Text(0.5, 1.0, 'Histogram of excercise Time')"
      ]
     },
     "execution_count": 21,
     "metadata": {},
     "output_type": "execute_result"
    },
    {
     "data": {
      "image/png": "[encoded data removed]",
      "text/plain": [
       "<Figure size 1500x500 with 1 Axes>"
      ]
     },
     "metadata": {},
     "output_type": "display_data"
    }
   ],
   "source": [
    "#Histogram of Time when the person is excercing\n",
    "plt.figure(figsize=(15,5))\n",
    "histogram2 = sns.histplot(df[(df['Calorie_change_count']!=None)]['Time'], bins=25)\n",
    "plt.xlabel('Date & Time')\n",
    "plt.ylabel('Frequency')\n",
    "plt.title('Histogram of excercise Time')"
   ]
  },
  {
   "cell_type": "code",
   "execution_count": 22,
   "id": "a9af7bb4-b313-4d59-b330-f0985af3b777",
   "metadata": {},
   "outputs": [
    {
     "data": {
      "text/plain": [
       "['2017-12-23 22:15:29', '2017-12-23 22:22:10']"
      ]
     },
     "execution_count": 22,
     "metadata": {},
     "output_type": "execute_result"
    }
   ],
   "source": [
    "#Determine the time range when person is most active\n",
    "\n",
    "bars = [rect.get_height() for rect in histogram2.patches]\n",
    "bins = [rect.get_x() for rect in histogram2.patches]\n",
    "\n",
    "index_max_height = bars.index(max(bars))\n",
    "\n",
    "range_of_bar = (bins[index_max_height],bins[index_max_height+1])\n",
    "\n",
    "date_time_range2 = []\n",
    "\n",
    "for i in range_of_bar:\n",
    "    date_time_range2.append(timestamp_to_datetime(i))\n",
    "\n",
    "date_time_range2"
   ]
  },
  {
   "cell_type": "code",
   "execution_count": 23,
   "id": "01f20f36-0b07-45a8-9539-49ad8696c77e",
   "metadata": {},
   "outputs": [
    {
     "data": {
      "text/plain": [
       "Timestamp('2017-12-23 23:14:48.922000')"
      ]
     },
     "execution_count": 23,
     "metadata": {},
     "output_type": "execute_result"
    }
   ],
   "source": [
    "#Time after the person sleeps\n",
    "sleep_time = df[df['Calorie_change_count']==max_calorie_count]['Time'].iloc[0]\n",
    "sleep_time"
   ]
  },
  {
   "cell_type": "markdown",
   "id": "73236c9d-a4fb-4aba-a095-4841d3502950",
   "metadata": {},
   "source": [
    "# Anlytical Solutions"
   ]
  },
  {
   "cell_type": "markdown",
   "id": "ed462081-c587-4ed4-afba-fac70b5090d8",
   "metadata": {},
   "source": [
    "### 1. Total recorded time period in the Log"
   ]
  },
  {
   "cell_type": "code",
   "execution_count": 24,
   "id": "6242de7d-905a-49e2-9486-943695f8659f",
   "metadata": {},
   "outputs": [
    {
     "data": {
      "text/plain": [
       "Timedelta('0 days 02:47:06.183000')"
      ]
     },
     "execution_count": 24,
     "metadata": {},
     "output_type": "execute_result"
    }
   ],
   "source": [
    "total_log_time"
   ]
  },
  {
   "cell_type": "markdown",
   "id": "3f2b4457-8285-4c12-9269-2b6522ae8966",
   "metadata": {},
   "source": [
    "### 2. The time range when the person is most active"
   ]
  },
  {
   "cell_type": "code",
   "execution_count": 25,
   "id": "f11f40b6-6ff0-4f9c-8b6d-6392ef25db58",
   "metadata": {},
   "outputs": [
    {
     "data": {
      "text/plain": [
       "['2017-12-23 22:15:29', '2017-12-23 22:22:10']"
      ]
     },
     "execution_count": 25,
     "metadata": {},
     "output_type": "execute_result"
    }
   ],
   "source": [
    "date_time_range"
   ]
  },
  {
   "cell_type": "markdown",
   "id": "2fdaa80d-89c1-4e3b-bda6-cb140b210aa2",
   "metadata": {},
   "source": [
    "### 3. Total number of steps taken by the person"
   ]
  },
  {
   "cell_type": "code",
   "execution_count": 26,
   "id": "b7d2bc42-239d-4860-b05e-f6c67f6604cd",
   "metadata": {},
   "outputs": [
    {
     "data": {
      "text/plain": [
       "207.0"
      ]
     },
     "execution_count": 26,
     "metadata": {},
     "output_type": "execute_result"
    }
   ],
   "source": [
    "total_Steps_taken"
   ]
  },
  {
   "cell_type": "markdown",
   "id": "41a47461-c41a-4b89-9eee-68f0f80f783d",
   "metadata": {},
   "source": [
    "### 4. Time after which the person not walking"
   ]
  },
  {
   "cell_type": "code",
   "execution_count": 27,
   "id": "35d5b6ff-dd7c-4986-be96-ce6a82df1dda",
   "metadata": {},
   "outputs": [
    {
     "data": {
      "text/plain": [
       "Time   2017-12-23 23:14:48.606\n",
       "Name: 1425, dtype: datetime64[ns]"
      ]
     },
     "execution_count": 27,
     "metadata": {},
     "output_type": "execute_result"
    }
   ],
   "source": [
    "time_idle"
   ]
  },
  {
   "cell_type": "markdown",
   "id": "351a67bd-0ccf-41a3-aa61-3adfea564fd4",
   "metadata": {},
   "source": [
    "### 5. Total Calories Burnt"
   ]
  },
  {
   "cell_type": "code",
   "execution_count": 28,
   "id": "6b237a0d-608a-44d2-b367-30549b386c68",
   "metadata": {},
   "outputs": [
    {
     "data": {
      "text/plain": [
       "4433.0"
      ]
     },
     "execution_count": 28,
     "metadata": {},
     "output_type": "execute_result"
    }
   ],
   "source": [
    "Total_calories_burnt"
   ]
  },
  {
   "cell_type": "markdown",
   "id": "64f79885-1f44-49e9-ba4b-81bf7dc18338",
   "metadata": {},
   "source": [
    "### 6. Time range when the maximum calories are burnt/ exercising"
   ]
  },
  {
   "cell_type": "code",
   "execution_count": 29,
   "id": "f00261eb-025f-484e-9834-6a2964cdbceb",
   "metadata": {},
   "outputs": [
    {
     "data": {
      "text/plain": [
       "['2017-12-23 22:15:29', '2017-12-23 22:22:10']"
      ]
     },
     "execution_count": 29,
     "metadata": {},
     "output_type": "execute_result"
    }
   ],
   "source": [
    "date_time_range2"
   ]
  },
  {
   "cell_type": "markdown",
   "id": "a56e8b78-5edb-498d-ba5a-a6d22fa2f68d",
   "metadata": {},
   "source": [
    "### 7. Time after the person sleeps"
   ]
  },
  {
   "cell_type": "code",
   "execution_count": 30,
   "id": "42fba6fe-4baa-48fa-a58b-0be309f14b4d",
   "metadata": {},
   "outputs": [
    {
     "data": {
      "text/plain": [
       "Timestamp('2017-12-23 23:14:48.922000')"
      ]
     },
     "execution_count": 30,
     "metadata": {},
     "output_type": "execute_result"
    }
   ],
   "source": [
    "sleep_time"
   ]
  }
 ],
 "metadata": {
  "kernelspec": {
   "display_name": "Python 3 (ipykernel)",
   "language": "python",
   "name": "python3"
  },
  "language_info": {
   "codemirror_mode": {
    "name": "ipython",
    "version": 3
   },
   "file_extension": ".py",
   "mimetype": "text/x-python",
   "name": "python",
   "nbconvert_exporter": "python",
   "pygments_lexer": "ipython3",
   "version": "3.10.5"
  }
 },
 "nbformat": 4,
 "nbformat_minor": 5
}
